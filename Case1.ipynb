{
 "cells": [
  {
   "cell_type": "markdown",
   "id": "2312cae8-e110-4f53-a954-85ad102d6f54",
   "metadata": {},
   "source": [
    "# Forslag til case 1\n"
   ]
  },
  {
   "cell_type": "markdown",
   "id": "6578a453-0dfe-4f86-b2c4-0bbd934987c3",
   "metadata": {},
   "source": [
    "### Oppgave 1: 10 poeng\n",
    "a) Lag en kort fortelling i en python kode som inkluderer alle de fire typer variabler vi har lært om i kurset. Koden skal kunne kjøres med print(). Koden burde inneholde utregninger av elementer du har definert\n"
   ]
  },
  {
   "cell_type": "markdown",
   "id": "843a6ebc-9a7d-449a-848e-1776d8b3e2ab",
   "metadata": {},
   "source": [
    "### Oppgave 2 (10 poeng)"
   ]
  },
  {
   "cell_type": "markdown",
   "id": "65c0f196-e9c4-447f-be5a-7e08643fc38d",
   "metadata": {},
   "source": [
    "Leieprisene i landet har steget de siste månedene. Ved å bruke realistiske tall<br> \n",
    "a) Lag en tilbuds og etterspørselsfunksjoner for leie av bolig (Bruk av ikke-lineære funksjoner belønnes <br>\n",
    "). <br> \n",
    "\n",
    "\n",
    "\n"
   ]
  },
  {
   "cell_type": "markdown",
   "id": "8994d05c-3eff-428b-9cc3-c52817cba507",
   "metadata": {},
   "source": [
    "b) Vis at disse er henholdvis fallende og stigende, ved bruk av\n",
    "- Regning\n",
    "- figurativt (matplotlib) "
   ]
  },
  {
   "cell_type": "markdown",
   "id": "8a528c27-c3d6-469f-824f-f89e217d1194",
   "metadata": {},
   "source": [
    "c) Kommenter funksjonene og likevekten. Vis gjerne figurativt hvor likevekten er"
   ]
  },
  {
   "cell_type": "markdown",
   "id": "dc7ec86f-9b5e-4e32-8ade-d95cfeb93d29",
   "metadata": {},
   "source": [
    "### Oppgave 3 (15 poeng)"
   ]
  },
  {
   "cell_type": "markdown",
   "id": "ffd4601d-7863-4b7d-a3ca-56153fb5143f",
   "metadata": {},
   "source": [
    "SSB har omfattende data på befolkningsutvikling (https://www.ssb.no/statbank/table/05803/tableViewLayout1/). Disse dataene skal du bruke i de neste deloppgavene\n",
    "\n",
    "a) lag lister av følgende variabler: \"Befolkning 1. januar\", \"Døde i alt\", \"Innflyttinger\" og \"Utflyttinger\". Bruk tall for perioden 2012-2021. Lag så en liste av disse liste. Du kan kalle den \"SSB\"\n"
   ]
  },
  {
   "cell_type": "code",
   "execution_count": 115,
   "id": "89588a39-4307-4a7f-ba4e-91ac7a8a8b66",
   "metadata": {},
   "outputs": [],
   "source": [
    "year = [\"year\", 2012, 2013, 2014, 2015, 2016, 2017, 2018, 2019, 2020, 2021]\n",
    "population = [\"population\", 4985870,5051275,5109056,5165802,5213985,5258317,5295619,5328212,5367580,5391369]\n",
    "died = [\"died\", 41992,41282,40394,40727,40726,40774,40840,40684,40611,42002]\n",
    "immigrants = [\"immigrants\", 78570,75789,70030,67276,66800,58192,52485,52153,38071,53947]\n",
    "emigrants = [\"emigrants\",31227,35716,31875,37474,40724,36843,34382,26826,26744,34297]"
   ]
  },
  {
   "cell_type": "code",
   "execution_count": 116,
   "id": "ec205990-054c-4021-84e0-513a86f03084",
   "metadata": {},
   "outputs": [],
   "source": [
    "ssb = [year, population, died, immigrants, emigrants]"
   ]
  },
  {
   "cell_type": "markdown",
   "id": "d73fb1db-1b16-41e8-afed-b88af54053cd",
   "metadata": {},
   "source": [
    "b) konverter \"ssb\" til en numpy matrise"
   ]
  },
  {
   "cell_type": "code",
   "execution_count": 117,
   "id": "2575453b-d523-49b8-98e7-6c2c6f31fc0b",
   "metadata": {},
   "outputs": [],
   "source": [
    "import numpy as np\n",
    "ssb_np=np.array(ssb)"
   ]
  },
  {
   "cell_type": "markdown",
   "id": "7948aec6-fbe4-4076-b781-13f00d7892a0",
   "metadata": {},
   "source": [
    "c) Putt alle tallene inn i en egen matrise og konverter disse til int (utelat årstallene)"
   ]
  },
  {
   "cell_type": "code",
   "execution_count": 118,
   "id": "a4adefaa-98e0-4e84-82c5-5099eced6d05",
   "metadata": {},
   "outputs": [],
   "source": [
    "ssb_numbers=np.array(ssb_np[:, 1:],dtype=int)\n"
   ]
  },
  {
   "cell_type": "code",
   "execution_count": 122,
   "id": "ea1ae35f-c4b6-4a06-a0a1-f38569292ee4",
   "metadata": {},
   "outputs": [
    {
     "data": {
      "text/plain": [
       "array([[   2012,    2013,    2014,    2015,    2016,    2017,    2018,\n",
       "           2019,    2020,    2021],\n",
       "       [4985870, 5051275, 5109056, 5165802, 5213985, 5258317, 5295619,\n",
       "        5328212, 5367580, 5391369],\n",
       "       [  41992,   41282,   40394,   40727,   40726,   40774,   40840,\n",
       "          40684,   40611,   42002],\n",
       "       [  78570,   75789,   70030,   67276,   66800,   58192,   52485,\n",
       "          52153,   38071,   53947],\n",
       "       [  31227,   35716,   31875,   37474,   40724,   36843,   34382,\n",
       "          26826,   26744,   34297]])"
      ]
     },
     "execution_count": 122,
     "metadata": {},
     "output_type": "execute_result"
    }
   ],
   "source": [
    "ssb_numbers"
   ]
  },
  {
   "cell_type": "markdown",
   "id": "5cdb7248-c041-430e-828f-33f8f5fe3ea4",
   "metadata": {},
   "source": [
    "d) vis befolkningsutviklingen grafisk for de gjeldene årene. Vis befolkning på y-aksen i millioner"
   ]
  },
  {
   "cell_type": "code",
   "execution_count": 79,
   "id": "2e37eecd-0777-46df-a860-925348e38d19",
   "metadata": {},
   "outputs": [],
   "source": [
    "from matplotlib import pyplot as plt"
   ]
  },
  {
   "cell_type": "code",
   "execution_count": 89,
   "id": "1aea3ebd-e525-471b-97cc-292b3d06099a",
   "metadata": {},
   "outputs": [
    {
     "data": {
      "text/plain": [
       "Text(0.5, 0, 'Årstall')"
      ]
     },
     "execution_count": 89,
     "metadata": {},
     "output_type": "execute_result"
    },
    {
     "data": {
      "image/png": "[encoded data removed]",
      "text/plain": [
       "<Figure size 432x288 with 1 Axes>"
      ]
     },
     "metadata": {
      "needs_background": "light"
     },
     "output_type": "display_data"
    }
   ],
   "source": [
    "fig,ax=plt.subplots()\n",
    "ax.plot(ssb_numbers[0, :], ssb_numbers[1, :]/1000000)\n",
    "ax.set_ylabel(\"Befolkning i millioner\")\n",
    "ax.set_xlabel(\"Årstall\")\n"
   ]
  },
  {
   "cell_type": "markdown",
   "id": "91bfe9de-26e4-41dd-b12f-66e5ba714e8a",
   "metadata": {},
   "source": [
    "e) Kunne man gjort dette ved bruk av oppslag? Hva ville fordelen med dette vært?"
   ]
  },
  {
   "cell_type": "markdown",
   "id": "fece5749-eed4-4b5a-92dc-e66bceae14d2",
   "metadata": {},
   "source": [
    "f) ekstrapoeng: Hva er den relative befolkningstilveksten (dvs. innvandring/utvandring). Hint: prøv å google \"divide python list\" og prøv deg frem. "
   ]
  },
  {
   "cell_type": "code",
   "execution_count": 129,
   "id": "a89ebfe6-ec96-4275-89ea-963c022b2aad",
   "metadata": {},
   "outputs": [],
   "source": [
    "from operator import truediv\n",
    "rel_immigration = list(map(truediv, immigrants[1:], emigrants[1:]))\n"
   ]
  },
  {
   "cell_type": "markdown",
   "id": "091a4c4b-0ab3-42b9-9576-de355e184baf",
   "metadata": {},
   "source": [
    "## Oppgave 4 (15 poeng)"
   ]
  },
  {
   "cell_type": "markdown",
   "id": "806a7eb9-8d04-4fb6-881d-9be4ef739401",
   "metadata": {},
   "source": [
    "Tenk at du setter 10 000 kr i banken i dag. <br>\n",
    "a) Lag en funksjon for hva dette inskuddet har blitt om 10 år med en gjennomsnittlig årlig avkastning på 5%"
   ]
  },
  {
   "cell_type": "code",
   "execution_count": null,
   "id": "bc4e49f8-3534-45e3-8991-ec7d93cac329",
   "metadata": {},
   "outputs": [],
   "source": []
  },
  {
   "cell_type": "markdown",
   "id": "228129d2-8d9e-4975-b887-f5de9acd78d0",
   "metadata": {},
   "source": [
    "b) Vis dette figurativt ved hjelp av matplotlib"
   ]
  },
  {
   "cell_type": "markdown",
   "id": "39438486-7fdb-423f-91df-828721e0380a",
   "metadata": {},
   "source": [
    "c) Lag tre nye linjer som viser hva avkastningen er med henholdsvis 3% og 10% avkastning"
   ]
  },
  {
   "cell_type": "markdown",
   "id": "12a224f8-ebd9-4154-bf5a-d25eb4b84da9",
   "metadata": {},
   "source": [
    "d) inflasjon reduserer kjøpekraften av pengene dine i dag. Vis hva innskuddet i banken er verdt om 5 år (i \"dagens penger\"), gitt 0% rente"
   ]
  },
  {
   "cell_type": "markdown",
   "id": "f1da66d2-7320-473d-ab98-73889b3c97dc",
   "metadata": {},
   "source": [
    "e) Hva er innskuddet verdt om 5 år hvis man forventer inflasjon på 6% og avkastning på 5%"
   ]
  },
  {
   "cell_type": "markdown",
   "id": "2fe0204b-12b7-4cd7-bc58-9d1606ac3fae",
   "metadata": {},
   "source": [
    "f) ekstrapoeng: lag en graf hvor du inkluderer en log-funksjon og en eksponentialfunksjon. Kommenter disse. "
   ]
  },
  {
   "cell_type": "code",
   "execution_count": null,
   "id": "4b883fba-f42c-4ce9-ae9a-9c985b02f72f",
   "metadata": {},
   "outputs": [],
   "source": []
  }
 ],
 "metadata": {
  "kernelspec": {
   "display_name": "Python 3 (ipykernel)",
   "language": "python",
   "name": "python3"
  },
  "language_info": {
   "codemirror_mode": {
    "name": "ipython",
    "version": 3
   },
   "file_extension": ".py",
   "mimetype": "text/x-python",
   "name": "python",
   "nbconvert_exporter": "python",
   "pygments_lexer": "ipython3",
   "version": "3.9.13"
  }
 },
 "nbformat": 4,
 "nbformat_minor": 5
}
