{
 "cells": [
  {
   "cell_type": "markdown",
   "id": "f7183bc1-2284-4311-9273-743fa73e63a7",
   "metadata": {},
   "source": [
    "# Mappeoppgave 1\n",
    "## <u>Beskrivelse\n",
    "Les oppgaveteksten nøye. Se hvordan man leverer oppgaven <th><a href='https://uit-sok-1003-h22.github.io/semesteroppgave.html'>her</a> </th> og  <th><a href='https://uit-sok-1003-h22.github.io/github.html'>her</a>. Husk at den skal leveres både som jupyter-fil og som PDF. Kommenter kodene du skriver i alle oppgaver og vær nøye på å definere aksene mm i figurer. I noen av oppgavetekstene står det hint, men det betyr ikke at de ikke kan løses på andre måter\n",
    "\n",
    "##### For å hente denne filen til Jupyter gjør du slik:\n",
    "\n",
    "<ol>\n",
    "<li>Åpne et \"terminalvindu\"\n",
    "<li>Gå til hjemmeområdet ditt\n",
    "    \n",
    "    \n",
    "    [user@jupty02 ~]$ cd\n",
    "<li>Lag en ny mappe på ditt hjemmeområde ved å skrive inn i terminalvinduet \n",
    "\n",
    "    [user@jupty02 ~]$ mkdir SOK-1003-eksamen-2022-mappe1 \n",
    "\n",
    "<li>Gå så inn i den mappen du har laget ved å skrive\n",
    "\n",
    "    [user@jupty02 ~]$ cd SOK-1003-eksamen-2022-mappe1 \n",
    "<li> Last ned kursmateriellet ved å kopiere inn følgende kommando i kommandovinduet:\n",
    "\n",
    "    [user@jupty02 sok-1003]$ git clone https://github.com/uit-sok-1003-h22/mappe/\n",
    "</ol> \n",
    "<br> Oppgi gruppenavn m/ medlemmer på epost o.k.aars@uit.no innen 7/10, så blir dere satt opp til tidspunkt for presentasjon 19/10. \n",
    "<br>Bruk så denne filen til å gjøre besvarelsen din. Ved behov; legg til flere celler ved å trykke \"b\"\n",
    "</br>\n",
    "<hr>"
   ]
  },
  {
   "cell_type": "markdown",
   "id": "6578a453-0dfe-4f86-b2c4-0bbd934987c3",
   "metadata": {},
   "source": [
    "## <u> Oppgavene\n",
    "\n",
    "### Oppgave 1 (5 poeng)\n",
    "a) Lag en kort fortelling i en python kode som inkluderer alle de fire typer variabler vi har lært om i kurset. Koden skal kunne kjøres med print(). Koden burde inneholde utregninger av elementer du har definert\n"
   ]
  },
  {
   "cell_type": "code",
   "execution_count": 272,
   "id": "c5fce5a4-1a81-4acd-86e0-eab40ea9d37e",
   "metadata": {},
   "outputs": [],
   "source": [
    "import numpy as np\n",
    "import matplotlib.pyplot as plt\n",
    "import pandas as pd\n",
    "import sympy as sp\n",
    "from shapely.geometry import LineString"
   ]
  },
  {
   "cell_type": "code",
   "execution_count": 273,
   "id": "92c6740e-90f9-4a78-a331-5496fdc06b0e",
   "metadata": {},
   "outputs": [
    {
     "name": "stdout",
     "output_type": "stream",
     "text": [
      "Kjetil gikk en tur på 12.5 kilometer.\n",
      "Altså over 10 kilometer, ganske sprekt.\n"
     ]
    }
   ],
   "source": [
    "x = 5\n",
    "y = 7.5\n",
    "z = \"Kjetil\"\n",
    "a = x + y\n",
    "print(z + \" gikk en tur på \" + str(x+y) + \" kilometer.\")\n",
    "if a > 10:\n",
    "    print(\"Altså over 10 kilometer, ganske sprekt.\")"
   ]
  },
  {
   "cell_type": "markdown",
   "id": "843a6ebc-9a7d-449a-848e-1776d8b3e2ab",
   "metadata": {},
   "source": [
    "### Oppgave 2 (10 poeng)"
   ]
  },
  {
   "cell_type": "markdown",
   "id": "65c0f196-e9c4-447f-be5a-7e08643fc38d",
   "metadata": {},
   "source": [
    "Leieprisene i landet har steget de siste månedene. Ved å bruke realistiske tall<br> \n",
    "a) Lag tilbuds og etterspørselsfunksjoner for leie av bolig (Bruk av ikke-lineære funksjoner belønnes). <br>\n",
    " <br> Definer funksjonene slik at det er mulig å finne en likevekt\n",
    "\n",
    "\n",
    "\n"
   ]
  },
  {
   "cell_type": "code",
   "execution_count": 274,
   "id": "7d86454c-767f-4b08-ba51-585165c03e7c",
   "metadata": {},
   "outputs": [
    {
     "name": "stdout",
     "output_type": "stream",
     "text": [
      "6436.3969\n",
      "9926.1369\n"
     ]
    }
   ],
   "source": [
    "def supply(x):\n",
    "    return x**2-2*x+4000\n",
    "def demand(x):\n",
    "    return (x-150)**2\n",
    "likevekt = 50.37\n",
    "print(supply(likevekt))\n",
    "print(demand(likevekt))"
   ]
  },
  {
   "cell_type": "markdown",
   "id": "8994d05c-3eff-428b-9cc3-c52817cba507",
   "metadata": {},
   "source": [
    "b) Vis at disse er henholdvis fallende og stigende, ved bruk av\n",
    "- Regning\n",
    "- figurativt (matplotlib) \n",
    "Husk å markere aksene tydelig og at funskjonene er definert slik at linjene krysser"
   ]
  },
  {
   "cell_type": "code",
   "execution_count": 377,
   "id": "8707e3ee-2227-4e0d-b3ba-a92ae302e028",
   "metadata": {},
   "outputs": [
    {
     "data": {
      "image/png": "[encoded data removed]",
      "text/plain": [
       "<Figure size 432x288 with 1 Axes>"
      ]
     },
     "metadata": {
      "needs_background": "light"
     },
     "output_type": "display_data"
    },
    {
     "data": {
      "text/plain": [
       "(array('d', [62.080536912751676]), array('d', [7730.846207816094]))"
      ]
     },
     "execution_count": 377,
     "metadata": {},
     "output_type": "execute_result"
    }
   ],
   "source": [
    "x = np.linspace(0,100)\n",
    "\n",
    "plt.plot(x,supply(x), label='Tilbud')\n",
    "plt.plot(x,demand(x),label='Etterspørsel')\n",
    "\n",
    "plt.legend()\n",
    "\n",
    "plt.xlabel('Kvantum')\n",
    "plt.ylabel('Pris')\n",
    "\n",
    "# finner skjæringspunkt (likevekt)kode inspirert av https://github.com/aldwin160/python/blob/master/finding%20the%20intersection%20of%20two%20curves.py\n",
    "Linje1 = LineString(np.column_stack((x, supply(x))))\n",
    "Linje2 = LineString(np.column_stack((x, demand(x))))\n",
    "intersection = line_1.intersection(line_2)\n",
    "\n",
    "plt.plot(*intersection.xy, 'ro')\n",
    "\n",
    "plt.show()\n",
    "\n",
    "#finner ut at likeveten ligger på (62,7730)\n",
    "\n",
    "x,y = intersection.xy\n",
    "x,y\n"
   ]
  },
  {
   "cell_type": "code",
   "execution_count": 276,
   "id": "1a7a6c8e-0c5e-4819-b6bd-80b03cd92631",
   "metadata": {},
   "outputs": [
    {
     "data": {
      "text/latex": [
       "$\\displaystyle 2 x$"
      ],
      "text/plain": [
       "2*x"
      ]
     },
     "execution_count": 276,
     "metadata": {},
     "output_type": "execute_result"
    }
   ],
   "source": [
    "##Supply ved hjelp av regning (Derivasjon)\n",
    "x = sp.Symbol('x')\n",
    "\n",
    "sp.diff(x**2)"
   ]
  },
  {
   "cell_type": "code",
   "execution_count": 277,
   "id": "fea833b4-a00f-4585-bd4a-12b1d4e9f632",
   "metadata": {},
   "outputs": [
    {
     "data": {
      "text/latex": [
       "$\\displaystyle - \\frac{150}{\\left(x + 5\\right)^{2}}$"
      ],
      "text/plain": [
       "-150/(x + 5)**2"
      ]
     },
     "execution_count": 277,
     "metadata": {},
     "output_type": "execute_result"
    }
   ],
   "source": [
    "##Demand ved hjelp av regning (Derivasjon)\n",
    "import sympy as sp\n",
    "x = sp.Symbol('x')\n",
    "\n",
    "sp.diff(150/(5+x))"
   ]
  },
  {
   "cell_type": "markdown",
   "id": "8a528c27-c3d6-469f-824f-f89e217d1194",
   "metadata": {},
   "source": [
    "c) Kommenter funksjonene og likevekten. Vis gjerne figurativt hvor likevekten er ved bruk av scatter"
   ]
  },
  {
   "cell_type": "code",
   "execution_count": 378,
   "id": "a1860645-9814-41aa-944e-4e28be9da46d",
   "metadata": {},
   "outputs": [
    {
     "data": {
      "text/plain": [
       "Text(62, 16000, 'likevekt ved (62, 7730)')"
      ]
     },
     "execution_count": 378,
     "metadata": {},
     "output_type": "execute_result"
    },
    {
     "data": {
      "image/png": "[encoded data removed]",
      "text/plain": [
       "<Figure size 432x288 with 1 Axes>"
      ]
     },
     "metadata": {
      "needs_background": "light"
     },
     "output_type": "display_data"
    }
   ],
   "source": [
    "# Vi ser at prisen synker når kvantum stiger, og likevekten på funksjonene ligger på omtrent (62,7730). \n",
    "\n",
    "\n",
    "x = np.linspace(0,100)\n",
    "\n",
    "ax = plt.axes()\n",
    "\n",
    "plt.plot(x,supply(x), label='Tilbud')\n",
    "\n",
    "plt.plot(x,demand(x),label='Etterspørsel')\n",
    "\n",
    "plt.legend()\n",
    "\n",
    "plt.scatter(62.08,7730, color=\"red\")\n",
    "\n",
    "plt.xlabel('Kvantum')\n",
    "\n",
    "plt.ylabel('Pris')\n",
    "\n",
    "ax.annotate('likevekt ved (62, 7730)', xy=(62,9000), xytext=(62, 16000), arrowprops=dict(facecolor='black'))"
   ]
  },
  {
   "cell_type": "markdown",
   "id": "dc7ec86f-9b5e-4e32-8ade-d95cfeb93d29",
   "metadata": {},
   "source": [
    "### Oppgave 3 (15 poeng)"
   ]
  },
  {
   "cell_type": "markdown",
   "id": "ffd4601d-7863-4b7d-a3ca-56153fb5143f",
   "metadata": {},
   "source": [
    "SSB har omfattende data på befolkningsutvikling (https://www.ssb.no/statbank/table/05803/tableViewLayout1/). Disse dataene skal du bruke i de neste deloppgavene.\n",
    "\n",
    "a) lag lister av følgende variabler: \"Befolkning 1. januar\", \"Døde i alt\", \"Innflyttinger\" og \"Utflyttinger\". Velg selv variabelnavn når du definerer dem i python. Første element i hver liste skal være variabelnavnet. Bruk tall for perioden 2012-2021. Lag så en liste av disse listene. Du kan kalle den \"ssb\". \n",
    "<br><br>\n",
    "<b>Hint:</b> når du skal velge variabler på SSB sin nettside må du holde inne ctrl for å velge flere variabler.\n"
   ]
  },
  {
   "cell_type": "code",
   "execution_count": 279,
   "id": "89588a39-4307-4a7f-ba4e-91ac7a8a8b66",
   "metadata": {},
   "outputs": [],
   "source": [
    "list1 = [\"befolkning 1. januar\", 4985870, 5051275,5109056,5165802,5213985,5258317,5295619,5328212,5367580, 5391369 ]\n",
    "\n",
    "list2 = [\"døde i alt\", 41992,41282, 40394, 40727,40726,40774, 40840, 40684, 40611, 42002]\n",
    "\n",
    "list3 = [\"inflyttinger\", 75870, 75789, 70030, 67276, 66800, 58192, 52485, 52153, 38071, 53947]\n",
    "\n",
    "list4 = [\"utflyttinger\",31227,35716,31875,37474,40724,36843,34382,26826,26744,34297]\n",
    "\n",
    "\n",
    "ssb = [list1, list2, list3, list4]"
   ]
  },
  {
   "cell_type": "markdown",
   "id": "d73fb1db-1b16-41e8-afed-b88af54053cd",
   "metadata": {},
   "source": [
    "b) konverter \"ssb\" til en numpy matrise og gi den et nytt navn"
   ]
  },
  {
   "cell_type": "code",
   "execution_count": 280,
   "id": "2575453b-d523-49b8-98e7-6c2c6f31fc0b",
   "metadata": {},
   "outputs": [
    {
     "data": {
      "text/plain": [
       "array([['befolkning 1. januar', '4985870', '5051275', '5109056',\n",
       "        '5165802', '5213985', '5258317', '5295619', '5328212', '5367580',\n",
       "        '5391369'],\n",
       "       ['døde i alt', '41992', '41282', '40394', '40727', '40726',\n",
       "        '40774', '40840', '40684', '40611', '42002'],\n",
       "       ['inflyttinger', '75870', '75789', '70030', '67276', '66800',\n",
       "        '58192', '52485', '52153', '38071', '53947'],\n",
       "       ['utflyttinger', '31227', '35716', '31875', '37474', '40724',\n",
       "        '36843', '34382', '26826', '26744', '34297']], dtype='<U21')"
      ]
     },
     "execution_count": 280,
     "metadata": {},
     "output_type": "execute_result"
    }
   ],
   "source": [
    "ssb1 = np.array(ssb)\n",
    "ssb1"
   ]
  },
  {
   "cell_type": "markdown",
   "id": "7948aec6-fbe4-4076-b781-13f00d7892a0",
   "metadata": {},
   "source": [
    "c) Putt alle tallene inn i en egen matrise og konverter disse til int "
   ]
  },
  {
   "cell_type": "code",
   "execution_count": 281,
   "id": "a4adefaa-98e0-4e84-82c5-5099eced6d05",
   "metadata": {},
   "outputs": [
    {
     "data": {
      "text/plain": [
       "array([[4985870, 5051275, 5109056, 5165802, 5213985, 5258317, 5295619,\n",
       "        5328212, 5367580, 5391369],\n",
       "       [  41992,   41282,   40394,   40727,   40726,   40774,   40840,\n",
       "          40684,   40611,   42002],\n",
       "       [  75870,   75789,   70030,   67276,   66800,   58192,   52485,\n",
       "          52153,   38071,   53947],\n",
       "       [  31227,   35716,   31875,   37474,   40724,   36843,   34382,\n",
       "          26826,   26744,   34297]])"
      ]
     },
     "execution_count": 281,
     "metadata": {},
     "output_type": "execute_result"
    }
   ],
   "source": [
    "ssb2 = ssb1[:,1:]\n",
    "ssbtall = ssb2.astype(int)\n",
    "ssbtall"
   ]
  },
  {
   "cell_type": "markdown",
   "id": "5cdb7248-c041-430e-828f-33f8f5fe3ea4",
   "metadata": {},
   "source": [
    "d) vis befolkningsutviklingen grafisk for de gjeldene årene ved bruk av matplotlib, og mer spesifikt \"fig, ax = plt.subplots()\". Vis befolkning på y-aksen i millioner"
   ]
  },
  {
   "cell_type": "code",
   "execution_count": 379,
   "id": "1aea3ebd-e525-471b-97cc-292b3d06099a",
   "metadata": {},
   "outputs": [
    {
     "data": {
      "text/plain": [
       "[<matplotlib.lines.Line2D at 0x7fd9fe51cbb0>]"
      ]
     },
     "execution_count": 381,
     "metadata": {},
     "output_type": "execute_result"
    },
    {
     "data": {
      "image/png": "[encoded data removed]",
      "text/plain": [
       "<Figure size 432x288 with 1 Axes>"
      ]
     },
     "metadata": {
      "needs_background": "light"
     },
     "output_type": "display_data"
    }
   ],
   "source": [
    "befolkning = ssbtall[1]\n",
    "år = [2012, 2013, 2014, 2015, 2016, 2017, 2018, 2019, 2020, 2021]\n",
    "x = år\n",
    "y = befolkning*1000000\n",
    "fig, ax = plt.subplots()\n",
    "ax.plot(x,y)"
   ]
  },
  {
   "cell_type": "markdown",
   "id": "91bfe9de-26e4-41dd-b12f-66e5ba714e8a",
   "metadata": {},
   "source": [
    "e) Lag det samme plottet ved bruk av oppslag. Hva er fordelen med dette?"
   ]
  },
  {
   "cell_type": "code",
   "execution_count": 394,
   "id": "5596bd22-3ba8-4ead-8adb-2547e304f75c",
   "metadata": {},
   "outputs": [
    {
     "data": {
      "text/plain": [
       "[<matplotlib.lines.Line2D at 0x7fd9fe002040>]"
      ]
     },
     "execution_count": 394,
     "metadata": {},
     "output_type": "execute_result"
    },
    {
     "data": {
      "image/png": "[encoded data removed]",
      "text/plain": [
       "<Figure size 432x288 with 1 Axes>"
      ]
     },
     "metadata": {
      "needs_background": "light"
     },
     "output_type": "display_data"
    }
   ],
   "source": [
    "#fordelen med oppslag er at vi kan assosiere en rekke verdier med kun en key\n",
    "a=dict()\n",
    "a['befolkning1']=befolkning/1000000\n",
    "a['år1'] = np.array(år)\n",
    "\n",
    "plt.plot(a['år1'],a['befolkning1'])"
   ]
  },
  {
   "cell_type": "markdown",
   "id": "fece5749-eed4-4b5a-92dc-e66bceae14d2",
   "metadata": {},
   "source": [
    "f) Hva er den relative befolkningstilveksten utenom fødsler (dvs. innvandring/utvandring)? Definer en ny array og legg den til i oppslaget du laget i oppgaven tidligere. Kall den \"rel_immigration\". Plot denne sammen med grafen du laget i (d). "
   ]
  },
  {
   "cell_type": "code",
   "execution_count": 395,
   "id": "f511ba92-873e-4114-87db-0a8737c6c582",
   "metadata": {},
   "outputs": [
    {
     "data": {
      "text/plain": [
       "<matplotlib.legend.Legend at 0x7fd9fdf5de50>"
      ]
     },
     "execution_count": 395,
     "metadata": {},
     "output_type": "execute_result"
    },
    {
     "data": {
      "image/png": "[encoded data removed]",
      "text/plain": [
       "<Figure size 432x288 with 1 Axes>"
      ]
     },
     "metadata": {
      "needs_background": "light"
     },
     "output_type": "display_data"
    }
   ],
   "source": [
    "innvandring = np.array(ssbtall[2])\n",
    "utvandring = np.array(ssbtall[3])\n",
    "a['rel.befolkningsvekst'] = innvandring - utvandring\n",
    "plt.plot(a['år1'],a['befolkning1'], color = 'green')\n",
    "plt.plot(a['år1'],a['rel.befolkningsvekst'], color = 'blue') \n",
    "plt.ylabel('Befolkning')\n",
    "plt.xlabel('År')\n",
    "plt.legend('BR')"
   ]
  },
  {
   "cell_type": "markdown",
   "id": "fc0370be-f664-417f-885d-97b0f6aa22d6",
   "metadata": {},
   "source": [
    "g) ekstrapoeng. Kan plotte de samme tallene (dvs \"rel_immigration\" og \"befolkning\" sammen med år) i to figurer ved siden av hverandre ved bruk av \"fig, (ax1, ax2) = plt.subplots(1, 2)\". Gi grafene ulik farge\n"
   ]
  },
  {
   "cell_type": "code",
   "execution_count": 398,
   "id": "8dc8457a-7144-4bdb-a4d2-9e2c7fb5cac1",
   "metadata": {},
   "outputs": [
    {
     "data": {
      "text/plain": [
       "[<matplotlib.lines.Line2D at 0x7fd9fdd72310>]"
      ]
     },
     "execution_count": 398,
     "metadata": {},
     "output_type": "execute_result"
    },
    {
     "data": {
      "image/png": "[encoded data removed]",
      "text/plain": [
       "<Figure size 432x288 with 2 Axes>"
      ]
     },
     "metadata": {
      "needs_background": "light"
     },
     "output_type": "display_data"
    }
   ],
   "source": [
    "innvandring = np.array(ssbtall[2])\n",
    "utvandring = np.array(ssbtall[3])\n",
    "a['rel.befolkningsvekst'] = innvandring - utvandring\n",
    "fig, (ax1, ax2) = plt.subplots(1,2)\n",
    "ax1.plot(a['år1'],a['rel.befolkningsvekst'], color = \"purple\")\n",
    "ax2.plot(a['år1'],a['befolkning1'], color = \"red\")"
   ]
  },
  {
   "cell_type": "markdown",
   "id": "091a4c4b-0ab3-42b9-9576-de355e184baf",
   "metadata": {},
   "source": [
    "## Oppgave 4 (20 poeng)"
   ]
  },
  {
   "cell_type": "markdown",
   "id": "806a7eb9-8d04-4fb6-881d-9be4ef739401",
   "metadata": {},
   "source": [
    "Et lån består som regel av et månedlig terminbeløp. Dette beløpet er summen av avdrag (nedbetalingen på lånet) og renter. Vi antar månedlig forrenting i alle oppgavene. Dvs. at det er 12 terminer i hvert år.<br><br>\n",
    "a) Lag en funksjon som regner ut hvor mye lånet \"x\" koster deg i renteutgifter for \"t\" terminer med årlig rente \"r\" for et serielån. <br> <br>  Siden dette er et serielån, så vil avdragene være like hver måned men renteutgiftene reduseres i takt med avdragene. Renteutgiftene for en gitt termin \"t\" vil derfor være den årlige renten \"r\" (delt på antall forrentinger \"f\") på gjenværende beløp på det tidspunktet.   $renteutgifter_{t} = (x-a*t)*{r/f}$   <br>  <br> \n",
    "Siden vi er ute etter den totale kostnaden i svaret, må du summere renteutgiftene over alle terminer, det vil si $\\sum_{t=1}^N(x-a*t)*{r/f}$\n",
    "\n",
    "\n",
    "<br>\n",
    "<b>Hint:</b> siden terminbeløpet varierer for hver måned (pga at rentene endres), må alle enkeltperioder summeres. Det kan være nyttige å bruke funksjonen np.arange() til dette.\n"
   ]
  },
  {
   "cell_type": "code",
   "execution_count": 323,
   "id": "bc4e49f8-3534-45e3-8991-ec7d93cac329",
   "metadata": {},
   "outputs": [
    {
     "data": {
      "text/plain": [
       "16250.054999999998"
      ]
     },
     "execution_count": 323,
     "metadata": {},
     "output_type": "execute_result"
    }
   ],
   "source": [
    "def renteutgifter(x,a,t,r,f):\n",
    "    return (x-a*np.arange(t))*r/f\n",
    "#finner renteutgifter for et år\n",
    "sum(renteutgifter(1000000,83333, 12, 0.03, 12))"
   ]
  },
  {
   "cell_type": "markdown",
   "id": "b85feca9-8641-4d22-b821-157d30ce8223",
   "metadata": {},
   "source": [
    "b) regn ut hvor mye lånet koster deg med henholdsvis 10, 20 og 30 års tilbakebetaling. Anta 1 000 000 kr lånebeløp med 3% rente"
   ]
  },
  {
   "cell_type": "code",
   "execution_count": 339,
   "id": "125e8c17-5283-4fa9-9c4d-5e020e24925c",
   "metadata": {},
   "outputs": [
    {
     "name": "stdout",
     "output_type": "stream",
     "text": [
      "151255.94999999998\n",
      "301297.8\n",
      "451214.1\n"
     ]
    }
   ],
   "source": [
    "print(sum(renteutgifter(1000000,8333, 120, 0.03, 12)))\n",
    "print(sum(renteutgifter(1000000,4166, 240, 0.03, 12)))\n",
    "print(sum(renteutgifter(1000000,2778, 360, 0.03, 12)))"
   ]
  },
  {
   "cell_type": "markdown",
   "id": "0dde7e5b-e8e5-4575-9473-8d621cb7c870",
   "metadata": {},
   "source": [
    "c) Vis hva det samme lånet koster som annuitetslån, dvs differansen mellom alle terminbeløp og lånebeløp.<br> <br> Annuitetslån gir like terminbeløp hver måned, men renten utgjør en større del av dette beløpet i starten. Terminbeløpet for et annuitetslån er definert ved formelen:\n",
    "$T = x*\\frac{r/f} {(1-(1+(r/f))^{-t})}$, hvor x=lånebeløp, r = årlig rente, t = terminer, f= antall forrentinger\n",
    "\n",
    "\n",
    "\n"
   ]
  },
  {
   "cell_type": "code",
   "execution_count": 321,
   "id": "245729d6-a3bf-4696-abfa-9525b9ce9820",
   "metadata": {},
   "outputs": [
    {
     "data": {
      "text/plain": [
       "16324.385101886932"
      ]
     },
     "execution_count": 321,
     "metadata": {},
     "output_type": "execute_result"
    }
   ],
   "source": [
    "def terminbeløp(x,r,f,t):\n",
    "    return x*(r/f)/(1-(1+(r/f))**-t)\n",
    "#finner kostnaden for et år\n",
    "terminbeløp(1000000,0.03,12,12)*12-1000000"
   ]
  },
  {
   "cell_type": "markdown",
   "id": "64b32290-0ec7-41a1-b230-052fed8c5c0f",
   "metadata": {},
   "source": [
    "c) Vis hvordan utviklingen i rentekostnader og avdrag på terminer for serielån grafisk ved hjelp av stackplot funksjonen i matplotlib. Anta et bankinnskudd x = 1 000 000 kr, årlig rente r=3% og antall terminer t = 240 (det vil si 20 år). Siden vi må vise utviklingen per termin, husk at \"t\" også definerer hvilken måned vi er i. Dvs, hvis t=15, har det gått 1 år og 3 mnd med terminer. Se forøvrig relevante formler i oppgave (a) \n",
    "\n",
    "<br> \n",
    "\n",
    "<b>Hint1:</b> Siden avdragene er like for alle måneder, kan det være lurt å definere det månedlige avdraget som en liste og gange det med antall perioder. </br>\n",
    "<b>Hint2:</b> Siden vi er ute etter både rentekostnader og avdrag hver for seg, kan det være lurt å definere en funksjon for hver av dem. </br>\n"
   ]
  },
  {
   "cell_type": "code",
   "execution_count": 358,
   "id": "99651332-6550-4c92-ad78-34df073b9fab",
   "metadata": {},
   "outputs": [
    {
     "data": {
      "text/plain": [
       "<matplotlib.legend.Legend at 0x7fd9fedcf670>"
      ]
     },
     "execution_count": 358,
     "metadata": {},
     "output_type": "execute_result"
    },
    {
     "data": {
      "image/png": "[encoded data removed]",
      "text/plain": [
       "<Figure size 432x288 with 1 Axes>"
      ]
     },
     "metadata": {
      "needs_background": "light"
     },
     "output_type": "display_data"
    }
   ],
   "source": [
    "serielån = renteutgifter(1000000,4167, 240, 0.03, 12)\n",
    "terminer = np.array(range(240))\n",
    "avdrag = []\n",
    "for i in range(240):\n",
    "    avdrag.append(4167)\n",
    "plt.xlabel('terminer')\n",
    "\n",
    "plt.ylabel('Utgifter')\n",
    "\n",
    "plt.stackplot(terminer, avdrag, serielån, colors=['green','red'])\n",
    "\n",
    "plt.legend('AR')"
   ]
  },
  {
   "cell_type": "code",
   "execution_count": null,
   "id": "8408a56e-4c6e-4a32-982c-df92a0dd4ed0",
   "metadata": {},
   "outputs": [],
   "source": []
  }
 ],
 "metadata": {
  "kernelspec": {
   "display_name": "Python 3 (ipykernel)",
   "language": "python",
   "name": "python3"
  },
  "language_info": {
   "codemirror_mode": {
    "name": "ipython",
    "version": 3
   },
   "file_extension": ".py",
   "mimetype": "text/x-python",
   "name": "python",
   "nbconvert_exporter": "python",
   "pygments_lexer": "ipython3",
   "version": "3.9.13"
  }
 },
 "nbformat": 4,
 "nbformat_minor": 5
}
