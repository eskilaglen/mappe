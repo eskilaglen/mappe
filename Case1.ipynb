{
 "cells": [
  {
   "cell_type": "markdown",
   "id": "2312cae8-e110-4f53-a954-85ad102d6f54",
   "metadata": {},
   "source": [
    "# Forslag til case 1\n"
   ]
  },
  {
   "cell_type": "code",
   "execution_count": 54,
   "id": "b7a09b7b-4e2d-4aba-a3c7-b7b31e83ea93",
   "metadata": {},
   "outputs": [],
   "source": [
    "import pandas as pd\n",
    "import numpy as np\n",
    "import matplotlib.pyplot as plt"
   ]
  },
  {
   "cell_type": "markdown",
   "id": "6578a453-0dfe-4f86-b2c4-0bbd934987c3",
   "metadata": {},
   "source": [
    "### Oppgave 1: 10 poeng\n",
    "a) Lag en kort fortelling i en python kode som inkluderer alle de fire typer variabler vi har lært om i kurset. Koden skal kunne kjøres med print(). Koden burde inneholde utregninger av elementer du har definert\n"
   ]
  },
  {
   "cell_type": "markdown",
   "id": "843a6ebc-9a7d-449a-848e-1776d8b3e2ab",
   "metadata": {},
   "source": [
    "### Oppgave 2 (10 poeng)"
   ]
  },
  {
   "cell_type": "markdown",
   "id": "65c0f196-e9c4-447f-be5a-7e08643fc38d",
   "metadata": {},
   "source": [
    "Leieprisene i landet har steget de siste månedene. Ved å bruke realistiske tall<br> \n",
    "a) Lag en tilbuds og etterspørselsfunksjoner for leie av bolig (Bruk av ikke-lineære funksjoner belønnes <br>\n",
    "). <br> \n",
    "\n",
    "\n",
    "\n"
   ]
  },
  {
   "cell_type": "code",
   "execution_count": 80,
   "id": "f662992c-5aef-4daa-9312-96f36e101bfd",
   "metadata": {},
   "outputs": [
    {
     "data": {
      "text/plain": [
       "8"
      ]
     },
     "execution_count": 80,
     "metadata": {},
     "output_type": "execute_result"
    }
   ],
   "source": [
    "def supply(p):\n",
    "    return 2*p\n",
    "supply(4)"
   ]
  },
  {
   "cell_type": "code",
   "execution_count": 84,
   "id": "7d86454c-767f-4b08-ba51-585165c03e7c",
   "metadata": {},
   "outputs": [
    {
     "data": {
      "text/plain": [
       "5.0"
      ]
     },
     "execution_count": 84,
     "metadata": {},
     "output_type": "execute_result"
    }
   ],
   "source": [
    "def demand(p):\n",
    "    return 5/p\n",
    "demand(1)"
   ]
  },
  {
   "cell_type": "markdown",
   "id": "8994d05c-3eff-428b-9cc3-c52817cba507",
   "metadata": {},
   "source": [
    "b) Vis at disse er henholdvis fallende og stigende, ved bruk av\n",
    "- Regning\n",
    "- figurativt (matplotlib) \n",
    "Husk å markere aksene tydelig"
   ]
  },
  {
   "cell_type": "markdown",
   "id": "8a528c27-c3d6-469f-824f-f89e217d1194",
   "metadata": {},
   "source": [
    "c) Kommenter funksjonene og likevekten. Vis gjerne figurativt hvor likevekten er"
   ]
  },
  {
   "cell_type": "markdown",
   "id": "dc7ec86f-9b5e-4e32-8ade-d95cfeb93d29",
   "metadata": {},
   "source": [
    "### Oppgave 3 (10 poeng)"
   ]
  },
  {
   "cell_type": "markdown",
   "id": "ffd4601d-7863-4b7d-a3ca-56153fb5143f",
   "metadata": {},
   "source": [
    "SSB har omfattende data på befolkningsutvikling (https://www.ssb.no/statbank/table/05803/tableViewLayout1/). Disse dataene skal du bruke i de neste deloppgavene\n",
    "\n",
    "a) lag lister av følgende variabler: \"Befolkning 1. januar\", \"Døde i alt\", \"Innflyttinger\" og \"Utflyttinger\". Bruk tall for perioden 2012-2021. Lag så en liste av disse liste. Du kan kalle den \"SSB\"\n"
   ]
  },
  {
   "cell_type": "code",
   "execution_count": 68,
   "id": "89588a39-4307-4a7f-ba4e-91ac7a8a8b66",
   "metadata": {},
   "outputs": [],
   "source": [
    "year = [\"year\", 2012, 2013, 2014, 2015, 2016, 2017, 2018, 2019, 2020, 2021]\n",
    "population = [\"population\", 4985870,5051275,5109056,5165802,5213985,5258317,5295619,5328212,5367580,5391369]\n",
    "died = [\"died\", 41992,41282,40394,40727,40726,40774,40840,40684,40611,42002]\n",
    "immigrants = [\"immigrants\", 78570,75789,70030,67276,66800,58192,52485,52153,38071,53947]\n",
    "emigrants = [\"emigrants\",31227,35716,31875,37474,40724,36843,34382,26826,26744,34297]"
   ]
  },
  {
   "cell_type": "code",
   "execution_count": 69,
   "id": "ec205990-054c-4021-84e0-513a86f03084",
   "metadata": {},
   "outputs": [],
   "source": [
    "ssb = [year, population, died, immigrants, emigrants]"
   ]
  },
  {
   "cell_type": "markdown",
   "id": "d73fb1db-1b16-41e8-afed-b88af54053cd",
   "metadata": {},
   "source": [
    "b) konverter \"ssb\" til en numpy matrise"
   ]
  },
  {
   "cell_type": "code",
   "execution_count": 70,
   "id": "2575453b-d523-49b8-98e7-6c2c6f31fc0b",
   "metadata": {},
   "outputs": [],
   "source": [
    "import numpy as np\n",
    "ssb_np=np.array(ssb)"
   ]
  },
  {
   "cell_type": "markdown",
   "id": "7948aec6-fbe4-4076-b781-13f00d7892a0",
   "metadata": {},
   "source": [
    "c) Putt alle tallene inn i en egen matrise og konverter disse til int (utelat årstallene)"
   ]
  },
  {
   "cell_type": "code",
   "execution_count": 71,
   "id": "a4adefaa-98e0-4e84-82c5-5099eced6d05",
   "metadata": {},
   "outputs": [],
   "source": [
    "ssb_numbers=np.array(ssb_np[:, 1:],dtype=int)\n"
   ]
  },
  {
   "cell_type": "code",
   "execution_count": 72,
   "id": "ea1ae35f-c4b6-4a06-a0a1-f38569292ee4",
   "metadata": {},
   "outputs": [
    {
     "data": {
      "text/plain": [
       "array([[   2012,    2013,    2014,    2015,    2016,    2017,    2018,\n",
       "           2019,    2020,    2021],\n",
       "       [4985870, 5051275, 5109056, 5165802, 5213985, 5258317, 5295619,\n",
       "        5328212, 5367580, 5391369],\n",
       "       [  41992,   41282,   40394,   40727,   40726,   40774,   40840,\n",
       "          40684,   40611,   42002],\n",
       "       [  78570,   75789,   70030,   67276,   66800,   58192,   52485,\n",
       "          52153,   38071,   53947],\n",
       "       [  31227,   35716,   31875,   37474,   40724,   36843,   34382,\n",
       "          26826,   26744,   34297]])"
      ]
     },
     "execution_count": 72,
     "metadata": {},
     "output_type": "execute_result"
    }
   ],
   "source": [
    "ssb_numbers"
   ]
  },
  {
   "cell_type": "markdown",
   "id": "5cdb7248-c041-430e-828f-33f8f5fe3ea4",
   "metadata": {},
   "source": [
    "d) vis befolkningsutviklingen grafisk for de gjeldene årene. Vis befolkning på y-aksen i millioner"
   ]
  },
  {
   "cell_type": "code",
   "execution_count": 73,
   "id": "2e37eecd-0777-46df-a860-925348e38d19",
   "metadata": {},
   "outputs": [],
   "source": [
    "from matplotlib import pyplot as plt"
   ]
  },
  {
   "cell_type": "code",
   "execution_count": 74,
   "id": "1aea3ebd-e525-471b-97cc-292b3d06099a",
   "metadata": {},
   "outputs": [
    {
     "data": {
      "text/plain": [
       "Text(0.5, 0, 'Årstall')"
      ]
     },
     "execution_count": 74,
     "metadata": {},
     "output_type": "execute_result"
    },
    {
     "data": {
      "image/png": "[encoded data removed]",
      "text/plain": [
       "<Figure size 432x288 with 1 Axes>"
      ]
     },
     "metadata": {
      "needs_background": "light"
     },
     "output_type": "display_data"
    }
   ],
   "source": [
    "fig,ax=plt.subplots()\n",
    "ax.plot(ssb_numbers[0, :], ssb_numbers[1, :]/1000000)\n",
    "ax.set_ylabel(\"Befolkning i millioner\")\n",
    "ax.set_xlabel(\"Årstall\")\n"
   ]
  },
  {
   "cell_type": "markdown",
   "id": "91bfe9de-26e4-41dd-b12f-66e5ba714e8a",
   "metadata": {},
   "source": [
    "e) Kunne man gjort dette ved bruk av oppslag? Hva ville fordelen med dette vært?"
   ]
  },
  {
   "cell_type": "code",
   "execution_count": null,
   "id": "750e59ad-8747-49da-8d4d-b20f4975f6cb",
   "metadata": {},
   "outputs": [],
   "source": []
  },
  {
   "cell_type": "markdown",
   "id": "fece5749-eed4-4b5a-92dc-e66bceae14d2",
   "metadata": {},
   "source": [
    "f) ekstrapoeng: Hva er den relative befolkningstilveksten (dvs. innvandring/utvandring). Hint: prøv å google \"divide python list\" og prøv deg frem. "
   ]
  },
  {
   "cell_type": "code",
   "execution_count": 75,
   "id": "a89ebfe6-ec96-4275-89ea-963c022b2aad",
   "metadata": {},
   "outputs": [],
   "source": [
    "from operator import truediv\n",
    "rel_immigration = list(map(truediv, immigrants[1:], emigrants[1:]))\n"
   ]
  },
  {
   "cell_type": "code",
   "execution_count": 76,
   "id": "f511ba92-873e-4114-87db-0a8737c6c582",
   "metadata": {},
   "outputs": [
    {
     "data": {
      "text/plain": [
       "[2.5160918435968873,\n",
       " 2.1219901444730653,\n",
       " 2.197019607843137,\n",
       " 1.7952713881624593,\n",
       " 1.6403103820842746,\n",
       " 1.5794587845723747,\n",
       " 1.5265255075330115,\n",
       " 1.9441213747856556,\n",
       " 1.4235342506730482,\n",
       " 1.5729364084322244]"
      ]
     },
     "execution_count": 76,
     "metadata": {},
     "output_type": "execute_result"
    }
   ],
   "source": [
    "rel_immigration"
   ]
  },
  {
   "cell_type": "markdown",
   "id": "091a4c4b-0ab3-42b9-9576-de355e184baf",
   "metadata": {},
   "source": [
    "## Oppgave 4 (20 poeng)"
   ]
  },
  {
   "cell_type": "markdown",
   "id": "806a7eb9-8d04-4fb6-881d-9be4ef739401",
   "metadata": {},
   "source": [
    "Et lån består som regel av et månedlig terminbeløp. Dette beløpet er summen av avdrag (nedbetalingen på lånet) og renter. Tenk at du låner 10 000 kr i banken i dag. <br>\n",
    "a) Lag en funksjon som regner ut hvor mye lånet \"x\" koster deg over en periode på \"t\" år med en årlig rente \"r\". Det er månedlig \"n\" forrenting. Dette er et serielån så avdragene er like hver måned, men renten reduseres i takt med avdragene.\n",
    "\n",
    "Formelt, kan vi la p definere hvilken mnd vi er i. Dvs, hvis p=15, har det gått 1 år og 3 mnd med terminer. Renteutgiftene for hele lånet vil derfor være summen av renten på gjenværende beløp for alle perioder p. Dette kan skrives slik   \n",
    "$\\sum_{p=1}^N(x-a*p)*{r/n}$\n",
    "\n",
    "Hint: siden terminbeløpet varierer for hver måned (pga at rentene endres), må alle enkeltperioder summeres. Det kan være nyttige å bruke funksjonen np.arange() til dette.\n"
   ]
  },
  {
   "cell_type": "code",
   "execution_count": 6,
   "id": "bc4e49f8-3534-45e3-8991-ec7d93cac329",
   "metadata": {},
   "outputs": [],
   "source": [
    "#versjon 1: regn ut hvor mye lånet koster deg for ulik nedbetalingstid\n",
    "def serie(x, r, t, n):\n",
    "    avdrag = x/(t*n)\n",
    "    rente = (x-avdrag*np.arange(0,t*n+1))*r/n\n",
    "    return rente.sum()"
   ]
  },
  {
   "cell_type": "markdown",
   "id": "b85feca9-8641-4d22-b821-157d30ce8223",
   "metadata": {},
   "source": [
    "b) regn ut hvor mye lånet koster deg med henholdsvis 10, 20 og 30 års tilbakebetaling. Anta 1 000 000 kr lånebeløp med 3% rente"
   ]
  },
  {
   "cell_type": "code",
   "execution_count": 14,
   "id": "c7fcc87e-f167-40d7-b5e4-2e5abc43ba25",
   "metadata": {},
   "outputs": [
    {
     "name": "stdout",
     "output_type": "stream",
     "text": [
      "Med 10 års tilbakebetaling koster lånet 151250 kr\n",
      "Med 20 års tilbakebetaling koster lånet 301250 kr\n",
      "Med 30 års tilbakebetaling koster lånet 451250 kr\n"
     ]
    }
   ],
   "source": [
    "print(f\"Med 10 års tilbakebetaling koster lånet {round(serie(1000000, 0.03, 10, 12))} kr\")\n",
    "print(f\"Med 20 års tilbakebetaling koster lånet {round(serie(1000000, 0.03, 20, 12))} kr\")\n",
    "print(f\"Med 30 års tilbakebetaling koster lånet {round(serie(1000000, 0.03, 30, 12))} kr\")"
   ]
  },
  {
   "cell_type": "markdown",
   "id": "0dde7e5b-e8e5-4575-9473-8d621cb7c870",
   "metadata": {},
   "source": [
    "c) Vis hva det samme lånet koster som annuitetslån, dvs differansen mellom alle terminbeløp og lånebeløp. Annuitetslån gir like terminbeløp hver måned, men renten utgjør en større del av dette beløpet i starten. Terminbeløpet for et annuitetslån er definert ved formelen:\n",
    "$T = x*\\frac{r/n} {(1-(1+(r/n))^{-n*t})}$, hvor x=lånebeløp, r = rente, n = terminer hvert år, t = år\n",
    "\n",
    "\n",
    "\n"
   ]
  },
  {
   "cell_type": "code",
   "execution_count": 36,
   "id": "245729d6-a3bf-4696-abfa-9525b9ce9820",
   "metadata": {},
   "outputs": [],
   "source": [
    "#først må vi finne ut hva termingebyret er \n",
    "def termin(x, r, t, n):\n",
    "    mnd = r/n\n",
    "    term = t*n\n",
    "    return x*(mnd/(1-(1+mnd)**-term))"
   ]
  },
  {
   "cell_type": "code",
   "execution_count": 42,
   "id": "b1f81ced-427c-455a-bcd9-227ce19d9797",
   "metadata": {},
   "outputs": [
    {
     "data": {
      "text/plain": [
       "84.69369875849057"
      ]
     },
     "execution_count": 42,
     "metadata": {},
     "output_type": "execute_result"
    }
   ],
   "source": [
    "termin(1000, 0.03, 1, 12)"
   ]
  },
  {
   "cell_type": "code",
   "execution_count": 43,
   "id": "5c705b45-5111-48cb-92e7-4477555ff90e",
   "metadata": {},
   "outputs": [],
   "source": [
    "#kostnaden er summen av terminer minus lånebeløp\n",
    "def cost(x, r, t, n):\n",
    "    return termin(x, r, t, n)*n*t-x\n",
    "\n"
   ]
  },
  {
   "cell_type": "code",
   "execution_count": 44,
   "id": "6a007a84-e2a6-48cb-922a-4b74a15b72dd",
   "metadata": {},
   "outputs": [
    {
     "name": "stdout",
     "output_type": "stream",
     "text": [
      "Annuitetslånet med 10 års tilbakebetaling koster 158729kr\n",
      "Annuitetslånet med 20 års tilbakebetaling koster 331034kr\n",
      "Annuitetslånet med 30 års tilbakebetaling koster 517775kr\n"
     ]
    }
   ],
   "source": [
    "print(f\"Annuitetslånet med 10 års tilbakebetaling koster {round(cost(1000000, 0.03, 10, 12))}kr\")\n",
    "print(f\"Annuitetslånet med 20 års tilbakebetaling koster {round(cost(1000000, 0.03, 20, 12))}kr\")\n",
    "print(f\"Annuitetslånet med 30 års tilbakebetaling koster {round(cost(1000000, 0.03, 30, 12))}kr\")"
   ]
  },
  {
   "cell_type": "markdown",
   "id": "64b32290-0ec7-41a1-b230-052fed8c5c0f",
   "metadata": {},
   "source": [
    "c) Vis hvordan utviklingen i rentekostnader og avdrag på terminer for serielån grafisk. Bruk stackplot til dette. </br>\n",
    "<b>Hint1:</b> siden avdragene er like for alle måneder, kan det være lurt å lage en liste. </br>\n",
    "<b>Hint2:</b> Det kan være enklere å definere tid på enkeltmåneder når man skal vise det grafisk (ref, kommentar om periode p ovenfor) \n"
   ]
  },
  {
   "cell_type": "code",
   "execution_count": 49,
   "id": "99651332-6550-4c92-ad78-34df073b9fab",
   "metadata": {},
   "outputs": [],
   "source": [
    "#samme som tidligere funksjon, men her tar vi ikke summen\n",
    "def interest_rate_monthly_serie(x, r, term):\n",
    "    avdrag = x/(term)\n",
    "    rente = (x-avdrag*np.arange(0,term+1))*r/12\n",
    "    return rente"
   ]
  },
  {
   "cell_type": "code",
   "execution_count": 50,
   "id": "068fad8a-4903-4840-88fc-fa2982058834",
   "metadata": {},
   "outputs": [
    {
     "data": {
      "text/plain": [
       "array([2.5       , 2.43055556, 2.36111111, 2.29166667, 2.22222222,\n",
       "       2.15277778, 2.08333333, 2.01388889, 1.94444444, 1.875     ,\n",
       "       1.80555556, 1.73611111, 1.66666667, 1.59722222, 1.52777778,\n",
       "       1.45833333, 1.38888889, 1.31944444, 1.25      , 1.18055556,\n",
       "       1.11111111, 1.04166667, 0.97222222, 0.90277778, 0.83333333,\n",
       "       0.76388889, 0.69444444, 0.625     , 0.55555556, 0.48611111,\n",
       "       0.41666667, 0.34722222, 0.27777778, 0.20833333, 0.13888889,\n",
       "       0.06944444, 0.        ])"
      ]
     },
     "execution_count": 50,
     "metadata": {},
     "output_type": "execute_result"
    }
   ],
   "source": [
    "#tester funksjonen\n",
    "interest_rate_monthly_serie(1000, 0.03, 36)"
   ]
  },
  {
   "cell_type": "code",
   "execution_count": 47,
   "id": "d9371233-9d9b-4ec4-abbe-1d01631151b8",
   "metadata": {},
   "outputs": [],
   "source": [
    "#lager funksjon for downpayment\n",
    "def down_payment(x, term):\n",
    "    return x/term\n"
   ]
  },
  {
   "cell_type": "code",
   "execution_count": 52,
   "id": "9801965d-1a6c-4acb-b056-506b07eb259b",
   "metadata": {},
   "outputs": [
    {
     "data": {
      "image/png": "[encoded data removed]",
      "text/plain": [
       "<Figure size 432x288 with 1 Axes>"
      ]
     },
     "metadata": {
      "needs_background": "light"
     },
     "output_type": "display_data"
    }
   ],
   "source": [
    "y = np.arange(1, 38, 1)\n",
    "x = 37\n",
    "x1 = [down_payment(1000,36)]*x\n",
    "x2 = interest_rate_monthly_serie(1000, 0.2, 36)\n",
    "\n",
    "fig, ax = plt.subplots()\n",
    "ax.stackplot(y, x1, x2, labels=[\"avdrag\", \"renter\"])\n",
    "ax.legend(loc='upper left')\n",
    "ax.set_title('Lån')\n",
    "ax.set_xlabel('Antall mnd')\n",
    "ax.set_ylabel('Termingbeløp')\n",
    "\n",
    "plt.show()"
   ]
  },
  {
   "cell_type": "markdown",
   "id": "d1cbdbde-70cf-470d-8e7e-66e36411c458",
   "metadata": {},
   "source": [
    "# Ignorer det under "
   ]
  },
  {
   "cell_type": "markdown",
   "id": "39438486-7fdb-423f-91df-828721e0380a",
   "metadata": {},
   "source": [
    "c) Lag tre nye linjer som viser hva avkastningen er med henholdsvis 3% og 10% avkastning"
   ]
  },
  {
   "cell_type": "markdown",
   "id": "12a224f8-ebd9-4154-bf5a-d25eb4b84da9",
   "metadata": {},
   "source": [
    "d) inflasjon reduserer kjøpekraften av pengene dine i dag. Vis hva innskuddet i banken er verdt om 5 år (i \"dagens penger\"), gitt 0% rente"
   ]
  },
  {
   "cell_type": "markdown",
   "id": "f1da66d2-7320-473d-ab98-73889b3c97dc",
   "metadata": {},
   "source": [
    "e) Hva er innskuddet verdt om 5 år hvis man forventer inflasjon på 6% og avkastning på 5%"
   ]
  },
  {
   "cell_type": "markdown",
   "id": "2fe0204b-12b7-4cd7-bc58-9d1606ac3fae",
   "metadata": {},
   "source": [
    "f) ekstrapoeng: lag en graf hvor du inkluderer en log-funksjon og en eksponentialfunksjon. Kommenter disse. "
   ]
  },
  {
   "cell_type": "code",
   "execution_count": null,
   "id": "4b883fba-f42c-4ce9-ae9a-9c985b02f72f",
   "metadata": {},
   "outputs": [],
   "source": []
  },
  {
   "cell_type": "code",
   "execution_count": null,
   "id": "d4d7dc9a-05de-41ff-81ed-48066fc2ed6f",
   "metadata": {},
   "outputs": [],
   "source": []
  },
  {
   "cell_type": "code",
   "execution_count": 590,
   "id": "5035b01f-ac07-4c57-91cc-a510e6cc8ade",
   "metadata": {},
   "outputs": [],
   "source": [
    "def termin_serie(x, r, term):\n",
    "    avdrag = x/(term)\n",
    "    rente = (x-avdrag*np.arange(0,term+1))*r/12\n",
    "    return rente.sum()"
   ]
  },
  {
   "cell_type": "code",
   "execution_count": 591,
   "id": "20fc5808-4995-43dd-9b06-e2b419df37c3",
   "metadata": {},
   "outputs": [
    {
     "data": {
      "text/plain": [
       "46.25"
      ]
     },
     "execution_count": 591,
     "metadata": {},
     "output_type": "execute_result"
    }
   ],
   "source": [
    "termin_serie(1000, 0.03, 36)"
   ]
  },
  {
   "cell_type": "code",
   "execution_count": 612,
   "id": "85a98794-a18a-4c4e-9f27-c198563c0c1f",
   "metadata": {},
   "outputs": [],
   "source": [
    "def termin_annuitet(x, r, term):\n",
    "    mnd = r/12\n",
    "    return x*(mnd/(1-(1+mnd)**-term))*term-x"
   ]
  },
  {
   "cell_type": "code",
   "execution_count": 613,
   "id": "e421d202-4371-44bb-9274-ffe5047bf53d",
   "metadata": {},
   "outputs": [
    {
     "data": {
      "text/plain": [
       "46.923546703504826"
      ]
     },
     "execution_count": 613,
     "metadata": {},
     "output_type": "execute_result"
    }
   ],
   "source": [
    "termin_annuitet(1000, 0.03, 36)"
   ]
  },
  {
   "cell_type": "code",
   "execution_count": 594,
   "id": "c2d918a5-25fb-4aee-aa20-39195e62081e",
   "metadata": {},
   "outputs": [
    {
     "data": {
      "text/plain": [
       "Text(0, 0.5, 'rentekostnader')"
      ]
     },
     "execution_count": 594,
     "metadata": {},
     "output_type": "execute_result"
    },
    {
     "data": {
      "image/png": "[encoded data removed]",
      "text/plain": [
       "<Figure size 432x288 with 1 Axes>"
      ]
     },
     "metadata": {
      "needs_background": "light"
     },
     "output_type": "display_data"
    }
   ],
   "source": [
    "x = np.arange(1,37,1)\n",
    "plt.plot(x, [termin_serie(1000, 0.03, i) for i in x])\n",
    "plt.plot(x, [termin_annuitet(1000, 0.03, i) for i in x])\n",
    "\n",
    "plt.xlabel(\"nedbetalt innen termin x\")\n",
    "plt.ylabel(\"rentekostnader\")"
   ]
  },
  {
   "cell_type": "code",
   "execution_count": null,
   "id": "5e55fd99-e8d1-4370-82e8-76cf46c522cd",
   "metadata": {},
   "outputs": [],
   "source": [
    "#versjon 2, her uten mnd:\n",
    "def serie2(lån, rente, tid):\n",
    "    avdrag = lån/tid\n",
    "    res = 0\n",
    "    for i in range(tid):\n",
    "        res += (lån-i*avdrag)*rente\n",
    "    return res"
   ]
  }
 ],
 "metadata": {
  "kernelspec": {
   "display_name": "Python 3 (ipykernel)",
   "language": "python",
   "name": "python3"
  },
  "language_info": {
   "codemirror_mode": {
    "name": "ipython",
    "version": 3
   },
   "file_extension": ".py",
   "mimetype": "text/x-python",
   "name": "python",
   "nbconvert_exporter": "python",
   "pygments_lexer": "ipython3",
   "version": "3.9.13"
  }
 },
 "nbformat": 4,
 "nbformat_minor": 5
}
