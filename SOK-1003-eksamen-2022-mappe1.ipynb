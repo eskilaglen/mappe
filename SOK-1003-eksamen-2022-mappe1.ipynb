{
 "cells": [
  {
   "cell_type": "markdown",
   "id": "f7183bc1-2284-4311-9273-743fa73e63a7",
   "metadata": {},
   "source": [
    "# Mappeoppgave 1\n",
    "## <u>Beskrivelse\n",
    "Les oppgaveteksten nøye. Se hvordan man leverer oppgaven <th><a href='https://uit-sok-1003-h22.github.io/semesteroppgave.html'>her</a> </th> og  <th><a href='https://uit-sok-1003-h22.github.io/github.html'>her</a>. Husk at den skal leveres både som jupyter-fil og som PDF. Kommenter kodene du skriver i alle oppgaver og vær nøye på å definere aksene mm i figurer. I noen av oppgavetekstene står det hint, men det betyr ikke at de ikke kan løses på andre måter\n",
    "\n",
    "##### For å hente denne filen til Jupyter gjør du slik:\n",
    "\n",
    "<ol>\n",
    "<li>Åpne et \"terminalvindu\"\n",
    "<li>Gå til hjemmeområdet ditt\n",
    "    \n",
    "    \n",
    "    [user@jupty02 ~]$ cd\n",
    "<li>Lag en ny mappe på ditt hjemmeområde ved å skrive inn i terminalvinduet \n",
    "\n",
    "    [user@jupty02 ~]$ mkdir SOK-1003-eksamen-2022-mappe1 \n",
    "\n",
    "<li>Gå så inn i den mappen du har laget ved å skrive\n",
    "\n",
    "    [user@jupty02 ~]$ cd SOK-1003-eksamen-2022-mappe1 \n",
    "<li> Last ned kursmateriellet ved å kopiere inn følgende kommando i kommandovinduet:\n",
    "\n",
    "    [user@jupty02 sok-1003]$ git clone https://github.com/uit-sok-1003-h22/mappe/\n",
    "</ol> \n",
    "<br> Oppgi gruppenavn m/ medlemmer på epost o.k.aars@uit.no innen 7/10, så blir dere satt opp til tidspunkt for presentasjon 19/10. \n",
    "<br>Bruk så denne filen til å gjøre besvarelsen din. Ved behov; legg til flere celler ved å trykke \"b\"\n",
    "</br>\n",
    "<hr>"
   ]
  },
  {
   "cell_type": "markdown",
   "id": "6578a453-0dfe-4f86-b2c4-0bbd934987c3",
   "metadata": {},
   "source": [
    "## <u> Oppgavene\n",
    "\n",
    "### Oppgave 1 (5 poeng)\n",
    "a) Lag en kort fortelling i en python kode som inkluderer alle de fire typer variabler vi har lært om i kurset. Koden skal kunne kjøres med print(). Koden burde inneholde utregninger av elementer du har definert\n"
   ]
  },
  {
   "cell_type": "code",
   "execution_count": 100,
   "id": "c5fce5a4-1a81-4acd-86e0-eab40ea9d37e",
   "metadata": {},
   "outputs": [],
   "source": [
    "#importerer pakker\n",
    "import numpy as np\n",
    "import matplotlib.pyplot as plt\n",
    "import pandas as pd\n",
    "import sympy as sp\n",
    "from shapely.geometry import LineString"
   ]
  },
  {
   "cell_type": "code",
   "execution_count": 101,
   "id": "92c6740e-90f9-4a78-a331-5496fdc06b0e",
   "metadata": {},
   "outputs": [
    {
     "name": "stdout",
     "output_type": "stream",
     "text": [
      "<class 'int'>\n",
      "<class 'float'>\n",
      "<class 'str'>\n",
      "<class 'bool'>\n",
      "Kjetil gikk en tur på 12.5 kilometer.\n",
      "Altså over 10 kilometer, ganske sprekt.\n"
     ]
    }
   ],
   "source": [
    "#definerer variabler av de forskjellige typene\n",
    "#printer variabeltypene\n",
    "x = 5 \n",
    "print(type(x))\n",
    "y = 7.5 \n",
    "print(type(y))\n",
    "z = \"Kjetil\"\n",
    "print(type(z))\n",
    "a = True\n",
    "print(type(a))\n",
    "\n",
    "print(z + \" gikk en tur på \" + str(x+y) + \" kilometer.\")\n",
    "#lager en \"if\"-setning som printer ekstra tekst om den er sann\n",
    "if a == True:\n",
    "    print(\"Altså over 10 kilometer, ganske sprekt.\")\n"
   ]
  },
  {
   "cell_type": "markdown",
   "id": "843a6ebc-9a7d-449a-848e-1776d8b3e2ab",
   "metadata": {},
   "source": [
    "### Oppgave 2 (10 poeng)"
   ]
  },
  {
   "cell_type": "markdown",
   "id": "65c0f196-e9c4-447f-be5a-7e08643fc38d",
   "metadata": {},
   "source": [
    "Leieprisene i landet har steget de siste månedene. Ved å bruke realistiske tall<br> \n",
    "a) Lag tilbuds og etterspørselsfunksjoner for leie av bolig (Bruk av ikke-lineære funksjoner belønnes). <br>\n",
    " <br> Definer funksjonene slik at det er mulig å finne en likevekt\n",
    "\n",
    "\n",
    "\n"
   ]
  },
  {
   "cell_type": "code",
   "execution_count": 102,
   "id": "7d86454c-767f-4b08-ba51-585165c03e7c",
   "metadata": {},
   "outputs": [
    {
     "data": {
      "text/latex": [
       "$\\displaystyle 1.33333333333333 x^{2}$"
      ],
      "text/plain": [
       "1.33333333333333*x**2"
      ]
     },
     "execution_count": 102,
     "metadata": {},
     "output_type": "execute_result"
    }
   ],
   "source": [
    "#Lager symbol av x for å bruke det matematisk\n",
    "x = sp.Symbol('x')\n",
    "#Supplyfunksjon\n",
    "def supply(x):\n",
    "    return x**2*(10000/7500)\n",
    "supply(x)"
   ]
  },
  {
   "cell_type": "code",
   "execution_count": 103,
   "id": "329a92f7-4998-4ad7-b9cc-75d870be8aee",
   "metadata": {},
   "outputs": [
    {
     "data": {
      "text/latex": [
       "$\\displaystyle \\frac{2000000}{2 x + 100}$"
      ],
      "text/plain": [
       "2000000/(2*x + 100)"
      ]
     },
     "execution_count": 103,
     "metadata": {},
     "output_type": "execute_result"
    }
   ],
   "source": [
    "#Demandfunksjon\n",
    "def demand(x):\n",
    "    return 2000000/(100+2*x)\n",
    "demand(x)"
   ]
  },
  {
   "cell_type": "code",
   "execution_count": 104,
   "id": "b2d6e0e4-b691-4941-abe9-c4089ca4146f",
   "metadata": {},
   "outputs": [
    {
     "data": {
      "text/latex": [
       "$\\displaystyle 76.8828085849211$"
      ],
      "text/plain": [
       "76.8828085849211"
      ]
     },
     "execution_count": 104,
     "metadata": {},
     "output_type": "execute_result"
    }
   ],
   "source": [
    "#finner markedslikevekt\n",
    "\n",
    "eq = sp.Eq(supply(x), demand(x))\n",
    "eq = sp.solve(eq)\n",
    "likevekt = eq[0]\n",
    "likevekt"
   ]
  },
  {
   "cell_type": "code",
   "execution_count": 105,
   "id": "7db3f207-5b50-453f-af48-e2c580819b9c",
   "metadata": {},
   "outputs": [
    {
     "name": "stdout",
     "output_type": "stream",
     "text": [
      "7881.28834120749\n",
      "7881.28834120749\n"
     ]
    }
   ],
   "source": [
    "#Viser prisen av supply og demand i likevektskvantumet\n",
    "print(supply(likevekt))\n",
    "print(demand(likevekt))"
   ]
  },
  {
   "cell_type": "markdown",
   "id": "8994d05c-3eff-428b-9cc3-c52817cba507",
   "metadata": {},
   "source": [
    "b) Vis at disse er henholdvis fallende og stigende, ved bruk av\n",
    "- Regning\n",
    "- figurativt (matplotlib) \n",
    "Husk å markere aksene tydelig og at funskjonene er definert slik at linjene krysser"
   ]
  },
  {
   "cell_type": "code",
   "execution_count": 79,
   "id": "8707e3ee-2227-4e0d-b3ba-a92ae302e028",
   "metadata": {},
   "outputs": [
    {
     "data": {
      "image/png": "[encoded data removed]",
      "text/plain": [
       "<Figure size 432x288 with 1 Axes>"
      ]
     },
     "metadata": {
      "needs_background": "light"
     },
     "output_type": "display_data"
    },
    {
     "data": {
      "text/plain": [
       "(array('d', [76.87991459551328]), array('d', [7881.920651867906]))"
      ]
     },
     "execution_count": 79,
     "metadata": {},
     "output_type": "execute_result"
    }
   ],
   "source": [
    "#lager en linspace for x-aksen\n",
    "x = np.linspace(0,100)\n",
    "#plotter supply og demand funksjonene sammen\n",
    "plt.plot(x,supply(x), label='Tilbud')\n",
    "plt.plot(x,demand(x),label='Etterspørsel')\n",
    "\n",
    "plt.legend()\n",
    "\n",
    "plt.xlabel('Kvantum')\n",
    "plt.ylabel('Pris')\n",
    "\n",
    "# finner skjæringspunkt (likevekt)kode inspirert av https://github.com/aldwin160/python/blob/master/finding%20the%20intersection%20of%20two%20curves.py\n",
    "line_1 = LineString(np.column_stack((x, supply(x))))\n",
    "line_2 = LineString(np.column_stack((x, demand(x))))\n",
    "intersection = line_1.intersection(line_2)\n",
    "\n",
    "plt.plot(*intersection.xy, 'ro')\n",
    "\n",
    "plt.show()\n",
    "\n",
    "#finner ut at likeveten ligger på (77,7881)\n",
    "\n",
    "x,y = intersection.xy\n",
    "x,y\n"
   ]
  },
  {
   "cell_type": "code",
   "execution_count": 62,
   "id": "1a7a6c8e-0c5e-4819-b6bd-80b03cd92631",
   "metadata": {},
   "outputs": [
    {
     "data": {
      "text/latex": [
       "$\\displaystyle 2.66666666666667 x$"
      ],
      "text/plain": [
       "2.66666666666667*x"
      ]
     },
     "execution_count": 62,
     "metadata": {},
     "output_type": "execute_result"
    }
   ],
   "source": [
    "##Supply ved hjelp av regning (Derivasjon)\n",
    "sp.diff(supply(x))"
   ]
  },
  {
   "cell_type": "code",
   "execution_count": 63,
   "id": "fea833b4-a00f-4585-bd4a-12b1d4e9f632",
   "metadata": {},
   "outputs": [
    {
     "data": {
      "text/latex": [
       "$\\displaystyle - \\frac{4000000}{\\left(2 x + 100\\right)^{2}}$"
      ],
      "text/plain": [
       "-4000000/(2*x + 100)**2"
      ]
     },
     "execution_count": 63,
     "metadata": {},
     "output_type": "execute_result"
    }
   ],
   "source": [
    "##Demand ved hjelp av regning (Derivasjon)\n",
    "sp.diff(demand(x))"
   ]
  },
  {
   "cell_type": "markdown",
   "id": "8a528c27-c3d6-469f-824f-f89e217d1194",
   "metadata": {},
   "source": [
    "c) Kommenter funksjonene og likevekten. Vis gjerne figurativt hvor likevekten er ved bruk av scatter"
   ]
  },
  {
   "cell_type": "code",
   "execution_count": 67,
   "id": "a1860645-9814-41aa-944e-4e28be9da46d",
   "metadata": {},
   "outputs": [
    {
     "data": {
      "text/plain": [
       "Text(62, 16000, 'likevekt ved (77, 7881)')"
      ]
     },
     "execution_count": 67,
     "metadata": {},
     "output_type": "execute_result"
    },
    {
     "data": {
      "image/png": "[encoded data removed]",
      "text/plain": [
       "<Figure size 432x288 with 1 Axes>"
      ]
     },
     "metadata": {
      "needs_background": "light"
     },
     "output_type": "display_data"
    }
   ],
   "source": [
    "#Likevekten gir et kvantum på 78 og en pris på 7881kr og dette er realistisk i et fungerende marked.\n",
    "#Dette er vist figurativt ved hjelp av intersection og scatter i figuren over\n",
    "#De deriverte funksjonene viser at tilbudsfunksjonen øker med kvantum og etterspørsel synker med kvantum.\n",
    "x = np.linspace(0,100)\n",
    "\n",
    "ax = plt.axes()\n",
    "\n",
    "plt.plot(x,supply(x), label='Tilbud')\n",
    "\n",
    "plt.plot(x,demand(x),label='Etterspørsel')\n",
    "\n",
    "plt.legend()\n",
    "\n",
    "plt.scatter(77,7881, color=\"red\")\n",
    "\n",
    "plt.xlabel('Kvantum')\n",
    "\n",
    "plt.ylabel('Pris')\n",
    "\n",
    "ax.annotate('likevekt ved (77, 7881)', xy=(77,8881), xytext=(62, 16000), arrowprops=dict(facecolor='black'))"
   ]
  },
  {
   "cell_type": "markdown",
   "id": "dc7ec86f-9b5e-4e32-8ade-d95cfeb93d29",
   "metadata": {},
   "source": [
    "### Oppgave 3 (15 poeng)"
   ]
  },
  {
   "cell_type": "markdown",
   "id": "ffd4601d-7863-4b7d-a3ca-56153fb5143f",
   "metadata": {},
   "source": [
    "SSB har omfattende data på befolkningsutvikling (https://www.ssb.no/statbank/table/05803/tableViewLayout1/). Disse dataene skal du bruke i de neste deloppgavene.\n",
    "\n",
    "a) lag lister av følgende variabler: \"Befolkning 1. januar\", \"Døde i alt\", \"Innflyttinger\" og \"Utflyttinger\". Velg selv variabelnavn når du definerer dem i python. Første element i hver liste skal være variabelnavnet. Bruk tall for perioden 2012-2021. Lag så en liste av disse listene. Du kan kalle den \"ssb\". \n",
    "<br><br>\n",
    "<b>Hint:</b> når du skal velge variabler på SSB sin nettside må du holde inne ctrl for å velge flere variabler.\n"
   ]
  },
  {
   "cell_type": "code",
   "execution_count": 83,
   "id": "89588a39-4307-4a7f-ba4e-91ac7a8a8b66",
   "metadata": {},
   "outputs": [],
   "source": [
    "#lager lister med SSB data\n",
    "\n",
    "list1 = [\"befolkning 1. januar\", 4985870, 5051275,5109056,5165802,5213985,5258317,5295619,5328212,5367580, 5391369 ]\n",
    "\n",
    "list2 = [\"døde i alt\", 41992,41282, 40394, 40727,40726,40774, 40840, 40684, 40611, 42002]\n",
    "\n",
    "list3 = [\"inflyttinger\", 75870, 75789, 70030, 67276, 66800, 58192, 52485, 52153, 38071, 53947]\n",
    "\n",
    "list4 = [\"utflyttinger\",31227,35716,31875,37474,40724,36843,34382,26826,26744,34297]\n",
    "\n",
    "#lager en liste av listene\n",
    "ssb = [list1, list2, list3, list4]"
   ]
  },
  {
   "cell_type": "markdown",
   "id": "d73fb1db-1b16-41e8-afed-b88af54053cd",
   "metadata": {},
   "source": [
    "b) konverter \"ssb\" til en numpy matrise og gi den et nytt navn"
   ]
  },
  {
   "cell_type": "code",
   "execution_count": 84,
   "id": "2575453b-d523-49b8-98e7-6c2c6f31fc0b",
   "metadata": {},
   "outputs": [
    {
     "data": {
      "text/plain": [
       "array([['befolkning 1. januar', '4985870', '5051275', '5109056',\n",
       "        '5165802', '5213985', '5258317', '5295619', '5328212', '5367580',\n",
       "        '5391369'],\n",
       "       ['døde i alt', '41992', '41282', '40394', '40727', '40726',\n",
       "        '40774', '40840', '40684', '40611', '42002'],\n",
       "       ['inflyttinger', '75870', '75789', '70030', '67276', '66800',\n",
       "        '58192', '52485', '52153', '38071', '53947'],\n",
       "       ['utflyttinger', '31227', '35716', '31875', '37474', '40724',\n",
       "        '36843', '34382', '26826', '26744', '34297']], dtype='<U21')"
      ]
     },
     "execution_count": 84,
     "metadata": {},
     "output_type": "execute_result"
    }
   ],
   "source": [
    "#gjør disse om til en numpy-matrise\n",
    "ssb1 = np.array(ssb)\n",
    "ssb1"
   ]
  },
  {
   "cell_type": "markdown",
   "id": "7948aec6-fbe4-4076-b781-13f00d7892a0",
   "metadata": {},
   "source": [
    "c) Putt alle tallene inn i en egen matrise og konverter disse til int "
   ]
  },
  {
   "cell_type": "code",
   "execution_count": 86,
   "id": "a4adefaa-98e0-4e84-82c5-5099eced6d05",
   "metadata": {},
   "outputs": [
    {
     "data": {
      "text/plain": [
       "array([[4985870, 5051275, 5109056, 5165802, 5213985, 5258317, 5295619,\n",
       "        5328212, 5367580, 5391369],\n",
       "       [  41992,   41282,   40394,   40727,   40726,   40774,   40840,\n",
       "          40684,   40611,   42002],\n",
       "       [  75870,   75789,   70030,   67276,   66800,   58192,   52485,\n",
       "          52153,   38071,   53947],\n",
       "       [  31227,   35716,   31875,   37474,   40724,   36843,   34382,\n",
       "          26826,   26744,   34297]])"
      ]
     },
     "execution_count": 86,
     "metadata": {},
     "output_type": "execute_result"
    }
   ],
   "source": [
    "#slicer ut tittel på listene, slik at vi bare har tall igjen og kan konvertere til int\n",
    "ssb2 = ssb1[:,1:]\n",
    "ssbtall = ssb2.astype(int)\n",
    "ssbtall"
   ]
  },
  {
   "cell_type": "markdown",
   "id": "5cdb7248-c041-430e-828f-33f8f5fe3ea4",
   "metadata": {},
   "source": [
    "d) vis befolkningsutviklingen grafisk for de gjeldene årene ved bruk av matplotlib, og mer spesifikt \"fig, ax = plt.subplots()\". Vis befolkning på y-aksen i millioner"
   ]
  },
  {
   "cell_type": "code",
   "execution_count": 106,
   "id": "1aea3ebd-e525-471b-97cc-292b3d06099a",
   "metadata": {},
   "outputs": [
    {
     "data": {
      "text/plain": [
       "[<matplotlib.lines.Line2D at 0x7f92fce196d0>]"
      ]
     },
     "execution_count": 106,
     "metadata": {},
     "output_type": "execute_result"
    },
    {
     "data": {
      "image/png": "[encoded data removed]",
      "text/plain": [
       "<Figure size 432x288 with 1 Axes>"
      ]
     },
     "metadata": {
      "needs_background": "light"
     },
     "output_type": "display_data"
    }
   ],
   "source": [
    "#henter variabelen \"befolkning\" fra dataen og plotter denne i millioner over de relevante årene\n",
    "befolkning = ssbtall[0]\n",
    "year = [2012, 2013, 2014, 2015, 2016, 2017, 2018, 2019, 2020, 2021]\n",
    "x = year\n",
    "y = befolkning/1000000\n",
    "fig, ax = plt.subplots()\n",
    "ax.plot(x,y)"
   ]
  },
  {
   "cell_type": "markdown",
   "id": "91bfe9de-26e4-41dd-b12f-66e5ba714e8a",
   "metadata": {},
   "source": [
    "e) Lag det samme plottet ved bruk av oppslag. Hva er fordelen med dette?"
   ]
  },
  {
   "cell_type": "code",
   "execution_count": 107,
   "id": "5596bd22-3ba8-4ead-8adb-2547e304f75c",
   "metadata": {},
   "outputs": [
    {
     "data": {
      "text/plain": [
       "Text(0.5, 0, 'År')"
      ]
     },
     "execution_count": 107,
     "metadata": {},
     "output_type": "execute_result"
    },
    {
     "data": {
      "image/png": "[encoded data removed]",
      "text/plain": [
       "<Figure size 432x288 with 1 Axes>"
      ]
     },
     "metadata": {
      "needs_background": "light"
     },
     "output_type": "display_data"
    }
   ],
   "source": [
    "#lager samme plot med dictionaries\n",
    "#fordelen med oppslag er at vi kan assosiere en rekke verdier med kun en key\n",
    "a=dict()\n",
    "a['befolkning1']=befolkning/1000000\n",
    "a['year1'] = np.array(year)\n",
    "\n",
    "plt.plot(a['year1'],a['befolkning1'])\n",
    "plt.ylabel('Befolkning')\n",
    "plt.xlabel('År')"
   ]
  },
  {
   "cell_type": "markdown",
   "id": "fece5749-eed4-4b5a-92dc-e66bceae14d2",
   "metadata": {},
   "source": [
    "f) Hva er den relative befolkningstilveksten utenom fødsler (dvs. innvandring/utvandring)? Definer en ny array og legg den til i oppslaget du laget i oppgaven tidligere. Kall den \"rel_immigration\". Plot denne sammen med grafen du laget i (d). "
   ]
  },
  {
   "cell_type": "code",
   "execution_count": 108,
   "id": "f511ba92-873e-4114-87db-0a8737c6c582",
   "metadata": {},
   "outputs": [
    {
     "data": {
      "text/plain": [
       "<matplotlib.legend.Legend at 0x7f92fcd4d460>"
      ]
     },
     "execution_count": 108,
     "metadata": {},
     "output_type": "execute_result"
    },
    {
     "data": {
      "image/png": "[encoded data removed]",
      "text/plain": [
       "<Figure size 432x288 with 1 Axes>"
      ]
     },
     "metadata": {
      "needs_background": "light"
     },
     "output_type": "display_data"
    }
   ],
   "source": [
    "#definerer relativ befolkningsvekst som variabel av innvandring og utvandring\n",
    "#Legger dette til i oppslaget\n",
    "#plotter dette inn i figuren fra forrige oppgave\n",
    "\n",
    "innvandring = np.array(ssbtall[2])\n",
    "utvandring = np.array(ssbtall[3])\n",
    "a['rel.befolkningsvekst'] = innvandring - utvandring\n",
    "plt.plot(a['year1'],a['befolkning1'], color = 'green', label=\"Befolkningsvekst\")\n",
    "plt.plot(a['year1'],a['rel.befolkningsvekst'], color = 'blue', label=\"Relativ befolkningsvekst\") \n",
    "plt.ylabel('Befolkning')\n",
    "plt.xlabel('År')\n",
    "plt.legend()"
   ]
  },
  {
   "cell_type": "markdown",
   "id": "fc0370be-f664-417f-885d-97b0f6aa22d6",
   "metadata": {},
   "source": [
    "g) ekstrapoeng. Kan plotte de samme tallene (dvs \"rel_immigration\" og \"befolkning\" sammen med år) i to figurer ved siden av hverandre ved bruk av \"fig, (ax1, ax2) = plt.subplots(1, 2)\". Gi grafene ulik farge\n"
   ]
  },
  {
   "cell_type": "code",
   "execution_count": 109,
   "id": "8dc8457a-7144-4bdb-a4d2-9e2c7fb5cac1",
   "metadata": {},
   "outputs": [
    {
     "data": {
      "text/plain": [
       "<matplotlib.legend.Legend at 0x7f92fccccd90>"
      ]
     },
     "execution_count": 109,
     "metadata": {},
     "output_type": "execute_result"
    },
    {
     "data": {
      "image/png": "[encoded data removed]",
      "text/plain": [
       "<Figure size 432x288 with 2 Axes>"
      ]
     },
     "metadata": {
      "needs_background": "light"
     },
     "output_type": "display_data"
    }
   ],
   "source": [
    "#plotter den samme dataen i forskjellige plot ved hjelp av \"subplots\"\n",
    "innvandring = np.array(ssbtall[2])\n",
    "utvandring = np.array(ssbtall[3])\n",
    "a['rel.befolkningsvekst'] = innvandring - utvandring\n",
    "fig, (ax1, ax2) = plt.subplots(2)\n",
    "ax1.plot(a['year1'],a['rel.befolkningsvekst'], color = \"purple\", label=\"relativ befolkningsvekst\")\n",
    "ax2.plot(a['year1'],a['befolkning1'], color = \"red\", label=\"befolkningsvekst\")\n",
    "ax2.set_xlabel(\"År\")\n",
    "ax1.set_ylabel(\"Relativ befolkningsvekst\")\n",
    "ax2.set_ylabel(\"Befolkningsvekst\")\n",
    "ax1.legend()\n",
    "ax2.legend()"
   ]
  },
  {
   "cell_type": "markdown",
   "id": "091a4c4b-0ab3-42b9-9576-de355e184baf",
   "metadata": {},
   "source": [
    "## Oppgave 4 (20 poeng)"
   ]
  },
  {
   "cell_type": "markdown",
   "id": "806a7eb9-8d04-4fb6-881d-9be4ef739401",
   "metadata": {},
   "source": [
    "Et lån består som regel av et månedlig terminbeløp. Dette beløpet er summen av avdrag (nedbetalingen på lånet) og renter. Vi antar månedlig forrenting i alle oppgavene. Dvs. at det er 12 terminer i hvert år.<br><br>\n",
    "a) Lag en funksjon som regner ut hvor mye lånet \"x\" koster deg i renteutgifter for \"t\" terminer med årlig rente \"r\" for et serielån. <br> <br>  Siden dette er et serielån, så vil avdragene være like hver måned men renteutgiftene reduseres i takt med avdragene. Renteutgiftene for en gitt termin \"t\" vil derfor være den årlige renten \"r\" (delt på antall forrentinger \"f\") på gjenværende beløp på det tidspunktet.   $renteutgifter_{t} = (x-a*t)*{r/f}$   <br>  <br> \n",
    "Siden vi er ute etter den totale kostnaden i svaret, må du summere renteutgiftene over alle terminer, det vil si $\\sum_{t=1}^N(x-a*t)*{r/f}$\n",
    "\n",
    "\n",
    "<br>\n",
    "<b>Hint:</b> siden terminbeløpet varierer for hver måned (pga at rentene endres), må alle enkeltperioder summeres. Det kan være nyttige å bruke funksjonen np.arange() til dette.\n"
   ]
  },
  {
   "cell_type": "code",
   "execution_count": 110,
   "id": "bc4e49f8-3534-45e3-8991-ec7d93cac329",
   "metadata": {},
   "outputs": [
    {
     "data": {
      "text/plain": [
       "16250.0"
      ]
     },
     "execution_count": 110,
     "metadata": {},
     "output_type": "execute_result"
    }
   ],
   "source": [
    "#definerer variabler og funksjonen for renteutgifter\n",
    "x=1000000\n",
    "f=12\n",
    "a = x/f\n",
    "t=12\n",
    "r=0.03\n",
    "\n",
    "\n",
    "\n",
    "def renteutgifter(x,a,t,r,f):\n",
    "    return (x-a*np.arange(t))*r/f\n",
    "\n",
    "#finner renteutgifter for et år\n",
    "sum(renteutgifter(x,a,t,r,f))"
   ]
  },
  {
   "cell_type": "markdown",
   "id": "b85feca9-8641-4d22-b821-157d30ce8223",
   "metadata": {},
   "source": [
    "b) regn ut hvor mye lånet koster deg med henholdsvis 10, 20 og 30 års tilbakebetaling. Anta 1 000 000 kr lånebeløp med 3% rente"
   ]
  },
  {
   "cell_type": "code",
   "execution_count": 111,
   "id": "125e8c17-5283-4fa9-9c4d-5e020e24925c",
   "metadata": {},
   "outputs": [
    {
     "name": "stdout",
     "output_type": "stream",
     "text": [
      "151250.0\n"
     ]
    }
   ],
   "source": [
    "#finner lånekostnaden for 10 år\n",
    "t1=t*10\n",
    "a=x/t1\n",
    "print(sum(renteutgifter(x,a, t1, r, f)))"
   ]
  },
  {
   "cell_type": "code",
   "execution_count": 112,
   "id": "3885d6c7-c39e-4476-9c48-05a4f42cdd0b",
   "metadata": {},
   "outputs": [
    {
     "name": "stdout",
     "output_type": "stream",
     "text": [
      "301250.0\n"
     ]
    }
   ],
   "source": [
    "#finner lånekostnaden for 20 år\n",
    "t2=t*20\n",
    "a=x/t2\n",
    "print(sum(renteutgifter(x,a, t2, r, f)))\n"
   ]
  },
  {
   "cell_type": "code",
   "execution_count": 113,
   "id": "e6dde7de-7890-4ce4-94dd-d8257b2884ed",
   "metadata": {},
   "outputs": [
    {
     "name": "stdout",
     "output_type": "stream",
     "text": [
      "451250.0\n"
     ]
    }
   ],
   "source": [
    "#finner lånekostnaden for 30 år\n",
    "t3=t*30\n",
    "a=x/t3\n",
    "print(sum(renteutgifter(x,a, t3, r, f)))\n"
   ]
  },
  {
   "cell_type": "markdown",
   "id": "0dde7e5b-e8e5-4575-9473-8d621cb7c870",
   "metadata": {},
   "source": [
    "c) Vis hva det samme lånet koster som annuitetslån, dvs differansen mellom alle terminbeløp og lånebeløp.<br> <br> Annuitetslån gir like terminbeløp hver måned, men renten utgjør en større del av dette beløpet i starten. Terminbeløpet for et annuitetslån er definert ved formelen:\n",
    "$T = x*\\frac{r/f} {(1-(1+(r/f))^{-t})}$, hvor x=lånebeløp, r = årlig rente, t = terminer, f= antall forrentinger\n",
    "\n",
    "\n",
    "\n"
   ]
  },
  {
   "cell_type": "code",
   "execution_count": 114,
   "id": "245729d6-a3bf-4696-abfa-9525b9ce9820",
   "metadata": {},
   "outputs": [
    {
     "data": {
      "text/plain": [
       "84693.69875849057"
      ]
     },
     "execution_count": 114,
     "metadata": {},
     "output_type": "execute_result"
    }
   ],
   "source": [
    "#definerer funksjon for terminbeløp\n",
    "def terminbeløp(x,r,f,t):\n",
    "    return x*(r/f)/(1-(1+(r/f))**-t)\n",
    "#finner kostnaden for et år \n",
    "terminbeløp(1000000,0.03,12,12)"
   ]
  },
  {
   "cell_type": "code",
   "execution_count": 115,
   "id": "83b321c4-079b-4457-9c40-ab1bfa8b4ba5",
   "metadata": {},
   "outputs": [
    {
     "data": {
      "text/plain": [
       "16324.385101886932"
      ]
     },
     "execution_count": 115,
     "metadata": {},
     "output_type": "execute_result"
    }
   ],
   "source": [
    "#definerer en funksjon som gir oss prisen av et lån som en funksjon av terminbeløpformelen ganget med antall\n",
    "#forrentinger og minuser dette med den originale låneprisen\n",
    "#bruker denne til å finne kostnaden for 1 år\n",
    "def lånekostnad(x,r,f,t,L,T1):\n",
    "    return terminbeløp(x,r,f,t)*T1-L\n",
    "lånekostnad(1000000,0.03,12,12,1000000,12)"
   ]
  },
  {
   "cell_type": "markdown",
   "id": "64b32290-0ec7-41a1-b230-052fed8c5c0f",
   "metadata": {},
   "source": [
    "c) Vis hvordan utviklingen i rentekostnader og avdrag på terminer for serielån grafisk ved hjelp av stackplot funksjonen i matplotlib. Anta et bankinnskudd x = 1 000 000 kr, årlig rente r=3% og antall terminer t = 240 (det vil si 20 år). Siden vi må vise utviklingen per termin, husk at \"t\" også definerer hvilken måned vi er i. Dvs, hvis t=15, har det gått 1 år og 3 mnd med terminer. Se forøvrig relevante formler i oppgave (a) \n",
    "\n",
    "<br> \n",
    "\n",
    "<b>Hint1:</b> Siden avdragene er like for alle måneder, kan det være lurt å definere det månedlige avdraget som en liste og gange det med antall perioder. </br>\n",
    "<b>Hint2:</b> Siden vi er ute etter både rentekostnader og avdrag hver for seg, kan det være lurt å definere en funksjon for hver av dem. </br>\n"
   ]
  },
  {
   "cell_type": "code",
   "execution_count": 116,
   "id": "99651332-6550-4c92-ad78-34df073b9fab",
   "metadata": {},
   "outputs": [
    {
     "data": {
      "text/plain": [
       "<matplotlib.legend.Legend at 0x7f92fce3d3a0>"
      ]
     },
     "execution_count": 116,
     "metadata": {},
     "output_type": "execute_result"
    },
    {
     "data": {
      "image/png": "[encoded data removed]",
      "text/plain": [
       "<Figure size 432x288 with 1 Axes>"
      ]
     },
     "metadata": {
      "needs_background": "light"
     },
     "output_type": "display_data"
    }
   ],
   "source": [
    "#Definerer serielån ved hjelp av funksjonen fra tidligere og setter inn relevante verdier\n",
    "serielån = renteutgifter(1000000,4167, 240, 0.03, 12)\n",
    "terminer = np.array(range(240))\n",
    "#lager liste for avdrag\n",
    "avdrag = []\n",
    "#lager \"for\"-løkke som setter inn like avdragsbeløp for 240 perioder inn i listen\n",
    "for i in range(240):\n",
    "    avdrag.append(4167)\n",
    "plt.xlabel('terminer')\n",
    "plt.ylabel('Utgifter')\n",
    "#lager stackplot\n",
    "plt.stackplot(terminer, avdrag, serielån, colors=['green','red'], labels=[\"Avdrag\",\"Renteutgifter\"])\n",
    "plt.legend()"
   ]
  }
 ],
 "metadata": {
  "kernelspec": {
   "display_name": "Python 3 (ipykernel)",
   "language": "python",
   "name": "python3"
  },
  "language_info": {
   "codemirror_mode": {
    "name": "ipython",
    "version": 3
   },
   "file_extension": ".py",
   "mimetype": "text/x-python",
   "name": "python",
   "nbconvert_exporter": "python",
   "pygments_lexer": "ipython3",
   "version": "3.9.13"
  }
 },
 "nbformat": 4,
 "nbformat_minor": 5
}
